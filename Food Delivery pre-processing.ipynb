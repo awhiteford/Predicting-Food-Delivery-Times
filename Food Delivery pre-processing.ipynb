{
 "cells": [
  {
   "cell_type": "code",
   "execution_count": 1,
   "id": "7805a29d",
   "metadata": {},
   "outputs": [
    {
     "name": "stdout",
     "output_type": "stream",
     "text": [
      "Requirement already satisfied: geopy in /Users/alexwhiteford/opt/anaconda3/lib/python3.9/site-packages (2.3.0)\n",
      "Requirement already satisfied: geographiclib<3,>=1.52 in /Users/alexwhiteford/opt/anaconda3/lib/python3.9/site-packages (from geopy) (2.0)\n"
     ]
    }
   ],
   "source": [
    "import pandas as pd\n",
    "import numpy as np\n",
    "import matplotlib.pyplot as plt\n",
    "import seaborn as sns\n",
    "from datetime import datetime, timedelta\n",
    "from sklearn.model_selection import train_test_split\n",
    "\n",
    "!pip install geopy\n",
    "from geopy.distance import geodesic\n",
    "import geopy.distance"
   ]
  },
  {
   "cell_type": "code",
   "execution_count": 4,
   "id": "e631e012",
   "metadata": {},
   "outputs": [
    {
     "name": "stdout",
     "output_type": "stream",
     "text": [
      "       Unnamed: 0  Order_Date Time_Orderd Time_Order_picked Weatherconditions  \\\n",
      "0               0  19-03-2022    11:30:00          11:45:00             Sunny   \n",
      "1               1  25-03-2022    19:45:00          19:50:00            Stormy   \n",
      "2               2  19-03-2022    08:30:00          08:45:00        Sandstorms   \n",
      "3               3  05-04-2022    18:00:00          18:10:00             Sunny   \n",
      "4               4  26-03-2022    13:30:00          13:45:00            Cloudy   \n",
      "...           ...         ...         ...               ...               ...   \n",
      "45588       45588  24-03-2022    11:35:00          11:45:00             Windy   \n",
      "45589       45589  16-02-2022    19:55:00          20:10:00             Windy   \n",
      "45590       45590  11-03-2022    23:50:00          00:05:00            Cloudy   \n",
      "45591       45591  07-03-2022    13:35:00          13:40:00            Cloudy   \n",
      "45592       45592  02-03-2022    17:10:00          17:15:00               Fog   \n",
      "\n",
      "      Road_traffic_density  multiple_deliveries  Time_taken(min)  \\\n",
      "0                    High                   0.0               24   \n",
      "1                     Jam                   1.0               33   \n",
      "2                     Low                   1.0               26   \n",
      "3                  Medium                   1.0               21   \n",
      "4                    High                   1.0               30   \n",
      "...                    ...                  ...              ...   \n",
      "45588                High                   0.0               32   \n",
      "45589                 Jam                   1.0               36   \n",
      "45590                 Low                   0.0               16   \n",
      "45591                High                   1.0               26   \n",
      "45592              Medium                   1.0               36   \n",
      "\n",
      "       Restaurant_latitude  Restaurant_longitude  Delivery_location_longitude  \\\n",
      "0                22.745049             75.892471                    75.912471   \n",
      "1                12.913041             77.683237                    77.813237   \n",
      "2                12.914264             77.678400                    77.688400   \n",
      "3                11.003669             76.976494                    77.026494   \n",
      "4                12.972793             80.249982                    80.289982   \n",
      "...                    ...                   ...                          ...   \n",
      "45588            26.902328             75.794257                    75.804257   \n",
      "45589             0.000000              0.000000                     0.070000   \n",
      "45590            13.022394             80.242439                    80.272439   \n",
      "45591            11.001753             76.986241                    77.026241   \n",
      "45592            23.351058             85.325731                    85.405731   \n",
      "\n",
      "       Delivery_location_latitude  \n",
      "0                       22.765049  \n",
      "1                       13.043041  \n",
      "2                       12.924264  \n",
      "3                       11.053669  \n",
      "4                       13.012793  \n",
      "...                           ...  \n",
      "45588                   26.912328  \n",
      "45589                    0.070000  \n",
      "45590                   13.052394  \n",
      "45591                   11.041753  \n",
      "45592                   23.431058  \n",
      "\n",
      "[45593 rows x 12 columns]\n"
     ]
    }
   ],
   "source": [
    "file = 'very_clean_delivery.csv'\n",
    "delivery = pd.read_csv(file, index_col=False)\n",
    "print(delivery)"
   ]
  },
  {
   "cell_type": "code",
   "execution_count": 5,
   "id": "3ce521c0",
   "metadata": {},
   "outputs": [],
   "source": [
    "features = ['Order_Date','Time_Orderd','Time_Order_picked','Weatherconditions','Road_traffic_density','multiple_deliveries','Restaurant_latitude','Restaurant_longitude','Delivery_location_longitude','Delivery_location_latitude']\n",
    "X = delivery.loc[:, features]\n",
    "y = delivery.loc[:, ['Time_taken(min)']]"
   ]
  },
  {
   "cell_type": "code",
   "execution_count": 6,
   "id": "5b1babd6",
   "metadata": {},
   "outputs": [],
   "source": [
    "train, test = train_test_split(delivery, test_size=0.25)"
   ]
  },
  {
   "cell_type": "code",
   "execution_count": 7,
   "id": "64b0bafd",
   "metadata": {},
   "outputs": [],
   "source": [
    "X_train, X_test, y_train, y_test = train_test_split(X, y, random_state=0, train_size=0.75)"
   ]
  },
  {
   "cell_type": "code",
   "execution_count": 8,
   "id": "0acfdf71",
   "metadata": {},
   "outputs": [
    {
     "data": {
      "text/html": [
       "<div>\n",
       "<style scoped>\n",
       "    .dataframe tbody tr th:only-of-type {\n",
       "        vertical-align: middle;\n",
       "    }\n",
       "\n",
       "    .dataframe tbody tr th {\n",
       "        vertical-align: top;\n",
       "    }\n",
       "\n",
       "    .dataframe thead th {\n",
       "        text-align: right;\n",
       "    }\n",
       "</style>\n",
       "<table border=\"1\" class=\"dataframe\">\n",
       "  <thead>\n",
       "    <tr style=\"text-align: right;\">\n",
       "      <th></th>\n",
       "      <th>Order_Date</th>\n",
       "      <th>Time_Orderd</th>\n",
       "      <th>Time_Order_picked</th>\n",
       "      <th>Weatherconditions</th>\n",
       "      <th>Road_traffic_density</th>\n",
       "      <th>multiple_deliveries</th>\n",
       "      <th>Restaurant_latitude</th>\n",
       "      <th>Restaurant_longitude</th>\n",
       "      <th>Delivery_location_longitude</th>\n",
       "      <th>Delivery_location_latitude</th>\n",
       "    </tr>\n",
       "  </thead>\n",
       "  <tbody>\n",
       "    <tr>\n",
       "      <th>25107</th>\n",
       "      <td>19-03-2022</td>\n",
       "      <td>21:25:00</td>\n",
       "      <td>21:40:00</td>\n",
       "      <td>Fog</td>\n",
       "      <td>Jam</td>\n",
       "      <td>1.0</td>\n",
       "      <td>26.913987</td>\n",
       "      <td>75.752891</td>\n",
       "      <td>75.802891</td>\n",
       "      <td>26.963987</td>\n",
       "    </tr>\n",
       "    <tr>\n",
       "      <th>20951</th>\n",
       "      <td>13-03-2022</td>\n",
       "      <td>10:55:00</td>\n",
       "      <td>11:05:00</td>\n",
       "      <td>Cloudy</td>\n",
       "      <td>Low</td>\n",
       "      <td>1.0</td>\n",
       "      <td>18.534080</td>\n",
       "      <td>73.898520</td>\n",
       "      <td>73.908520</td>\n",
       "      <td>18.544080</td>\n",
       "    </tr>\n",
       "    <tr>\n",
       "      <th>6344</th>\n",
       "      <td>16-02-2022</td>\n",
       "      <td>23:10:00</td>\n",
       "      <td>23:20:00</td>\n",
       "      <td>Sunny</td>\n",
       "      <td>Low</td>\n",
       "      <td>0.0</td>\n",
       "      <td>25.452350</td>\n",
       "      <td>81.841889</td>\n",
       "      <td>81.921889</td>\n",
       "      <td>25.532350</td>\n",
       "    </tr>\n",
       "    <tr>\n",
       "      <th>32663</th>\n",
       "      <td>10-03-2022</td>\n",
       "      <td>20:55:00</td>\n",
       "      <td>21:05:00</td>\n",
       "      <td>Windy</td>\n",
       "      <td>Jam</td>\n",
       "      <td>0.0</td>\n",
       "      <td>22.727021</td>\n",
       "      <td>75.884167</td>\n",
       "      <td>75.964167</td>\n",
       "      <td>22.807021</td>\n",
       "    </tr>\n",
       "    <tr>\n",
       "      <th>26577</th>\n",
       "      <td>05-03-2022</td>\n",
       "      <td>18:10:00</td>\n",
       "      <td>18:25:00</td>\n",
       "      <td>Fog</td>\n",
       "      <td>Medium</td>\n",
       "      <td>0.0</td>\n",
       "      <td>19.223840</td>\n",
       "      <td>72.841347</td>\n",
       "      <td>72.871347</td>\n",
       "      <td>19.253840</td>\n",
       "    </tr>\n",
       "  </tbody>\n",
       "</table>\n",
       "</div>"
      ],
      "text/plain": [
       "       Order_Date Time_Orderd Time_Order_picked Weatherconditions  \\\n",
       "25107  19-03-2022    21:25:00          21:40:00               Fog   \n",
       "20951  13-03-2022    10:55:00          11:05:00            Cloudy   \n",
       "6344   16-02-2022    23:10:00          23:20:00             Sunny   \n",
       "32663  10-03-2022    20:55:00          21:05:00             Windy   \n",
       "26577  05-03-2022    18:10:00          18:25:00               Fog   \n",
       "\n",
       "      Road_traffic_density  multiple_deliveries  Restaurant_latitude  \\\n",
       "25107                 Jam                   1.0            26.913987   \n",
       "20951                 Low                   1.0            18.534080   \n",
       "6344                  Low                   0.0            25.452350   \n",
       "32663                 Jam                   0.0            22.727021   \n",
       "26577              Medium                   0.0            19.223840   \n",
       "\n",
       "       Restaurant_longitude  Delivery_location_longitude  \\\n",
       "25107             75.752891                    75.802891   \n",
       "20951             73.898520                    73.908520   \n",
       "6344              81.841889                    81.921889   \n",
       "32663             75.884167                    75.964167   \n",
       "26577             72.841347                    72.871347   \n",
       "\n",
       "       Delivery_location_latitude  \n",
       "25107                   26.963987  \n",
       "20951                   18.544080  \n",
       "6344                    25.532350  \n",
       "32663                   22.807021  \n",
       "26577                   19.253840  "
      ]
     },
     "execution_count": 8,
     "metadata": {},
     "output_type": "execute_result"
    }
   ],
   "source": [
    "test = test.replace('NaN', float(np.nan), regex=True)\n",
    "train = train.replace('NaN', float(np.nan), regex=True)\n",
    "\n",
    "X_train.head()\n",
    "X_test.head()"
   ]
  },
  {
   "cell_type": "code",
   "execution_count": 9,
   "id": "0a31ec02",
   "metadata": {},
   "outputs": [
    {
     "data": {
      "text/html": [
       "<div>\n",
       "<style scoped>\n",
       "    .dataframe tbody tr th:only-of-type {\n",
       "        vertical-align: middle;\n",
       "    }\n",
       "\n",
       "    .dataframe tbody tr th {\n",
       "        vertical-align: top;\n",
       "    }\n",
       "\n",
       "    .dataframe thead th {\n",
       "        text-align: right;\n",
       "    }\n",
       "</style>\n",
       "<table border=\"1\" class=\"dataframe\">\n",
       "  <thead>\n",
       "    <tr style=\"text-align: right;\">\n",
       "      <th></th>\n",
       "      <th>Time_taken(min)</th>\n",
       "    </tr>\n",
       "  </thead>\n",
       "  <tbody>\n",
       "    <tr>\n",
       "      <th>count</th>\n",
       "      <td>34194.000000</td>\n",
       "    </tr>\n",
       "    <tr>\n",
       "      <th>mean</th>\n",
       "      <td>26.275370</td>\n",
       "    </tr>\n",
       "    <tr>\n",
       "      <th>std</th>\n",
       "      <td>9.410603</td>\n",
       "    </tr>\n",
       "    <tr>\n",
       "      <th>min</th>\n",
       "      <td>10.000000</td>\n",
       "    </tr>\n",
       "    <tr>\n",
       "      <th>25%</th>\n",
       "      <td>19.000000</td>\n",
       "    </tr>\n",
       "    <tr>\n",
       "      <th>50%</th>\n",
       "      <td>25.000000</td>\n",
       "    </tr>\n",
       "    <tr>\n",
       "      <th>75%</th>\n",
       "      <td>32.000000</td>\n",
       "    </tr>\n",
       "    <tr>\n",
       "      <th>max</th>\n",
       "      <td>54.000000</td>\n",
       "    </tr>\n",
       "  </tbody>\n",
       "</table>\n",
       "</div>"
      ],
      "text/plain": [
       "       Time_taken(min)\n",
       "count     34194.000000\n",
       "mean         26.275370\n",
       "std           9.410603\n",
       "min          10.000000\n",
       "25%          19.000000\n",
       "50%          25.000000\n",
       "75%          32.000000\n",
       "max          54.000000"
      ]
     },
     "execution_count": 9,
     "metadata": {},
     "output_type": "execute_result"
    }
   ],
   "source": [
    "X_train.describe()\n",
    "y_train.describe()"
   ]
  },
  {
   "cell_type": "code",
   "execution_count": 10,
   "id": "0b72d3c8",
   "metadata": {},
   "outputs": [],
   "source": [
    "num_cols = ['Restaurant_latitude','Restaurant_longitude','Delivery_location_latitude',\n",
    "            'Delivery_location_longitude','multiple_deliveries']\n",
    "for col in num_cols:\n",
    "    train[col] = train[col].astype('float64')\n",
    "    \n",
    "for col in num_cols[:-1]:\n",
    "    test[col]=test[col].astype('float64')\n",
    "    \n",
    "train['Order_Date'] = pd.to_datetime(train['Order_Date'], format=\"%d-%m-%Y\")\n",
    "test['Order_Date'] = pd.to_datetime(test['Order_Date'], format=\"%d-%m-%Y\")"
   ]
  },
  {
   "cell_type": "code",
   "execution_count": 12,
   "id": "237c4fe3",
   "metadata": {},
   "outputs": [],
   "source": [
    "delivery['Distance_km'] = delivery.apply(lambda x: geopy.distance.distance((x['Restaurant_latitude'], x['Restaurant_longitude']), (x['Delivery_location_latitude'], x['Delivery_location_longitude'])), axis=1)"
   ]
  },
  {
   "cell_type": "code",
   "execution_count": 14,
   "id": "45a7c960",
   "metadata": {},
   "outputs": [],
   "source": [
    "# Timedelta"
   ]
  },
  {
   "cell_type": "code",
   "execution_count": 15,
   "id": "1464232d",
   "metadata": {},
   "outputs": [],
   "source": [
    "train['Time_Orderd'] = pd.to_timedelta(train['Time_Orderd'])\n",
    "train['Time_Order_picked'] = pd.to_timedelta(train['Time_Order_picked'])"
   ]
  },
  {
   "cell_type": "code",
   "execution_count": 16,
   "id": "443fd6f4",
   "metadata": {},
   "outputs": [],
   "source": [
    "train['Time_Order_picked_updated'] = np.where(train['Time_Order_picked'] < train['Time_Orderd'], \n",
    "                                              train['Order_Date'] + train['Time_Order_picked'],\n",
    "                                             train['Order_Date'] + train['Time_Order_picked'])\n",
    "\n",
    "train['Time_Orderd_updated'] = train['Order_Date'] + train['Time_Orderd']\n",
    "train['Order_prep_time_diff'] = ((train['Time_Order_picked_updated'] - \n",
    "                                  train['Time_Orderd_updated']).dt.total_seconds())/60"
   ]
  },
  {
   "cell_type": "code",
   "execution_count": 17,
   "id": "17032f7e",
   "metadata": {},
   "outputs": [],
   "source": [
    "test['Time_Orderd'] = pd.to_timedelta(test['Time_Orderd'])\n",
    "test['Time_Order_picked'] = pd.to_timedelta(test['Time_Order_picked'])"
   ]
  },
  {
   "cell_type": "code",
   "execution_count": 18,
   "id": "008947bc",
   "metadata": {},
   "outputs": [],
   "source": [
    "test['Time_Order_picked_updated'] = np.where(test['Time_Order_picked'] < test['Time_Orderd'], \n",
    "                                              test['Order_Date'] + test['Time_Order_picked'],\n",
    "                                             test['Order_Date'] + test['Time_Order_picked'])\n",
    "\n",
    "test['Time_Orderd_updated'] = test['Order_Date'] + test['Time_Orderd']\n",
    "test['Order_prep_time_diff'] = ((test['Time_Order_picked_updated'] - \n",
    "                                  test['Time_Orderd_updated']).dt.total_seconds())/60"
   ]
  },
  {
   "cell_type": "code",
   "execution_count": 19,
   "id": "387bf321",
   "metadata": {},
   "outputs": [],
   "source": [
    "coords = ['Restaurant_latitude', 'Restaurant_longitude', 'Delivery_location_latitude', 'Delivery_location_longitude']\n",
    "\n",
    "for coord in coords:\n",
    "    train[coord] = abs(train[coord])\n",
    "for coord in coords:\n",
    "    test[coord] = abs(test[coord])"
   ]
  },
  {
   "cell_type": "code",
   "execution_count": 20,
   "id": "5bd2365c",
   "metadata": {},
   "outputs": [],
   "source": [
    "#train['Distance_km'] = np.zeros(len(train))\n",
    "\n",
    "#rest_coords_train = train[['Restaurant_latitude', 'Restaurant_longitude']].to_numpy()\n",
    "#deliver_coords_train = train[['Delivery_location_latitude', 'Delivery_location_longitude']].to_numpy()\n",
    "\n",
    "#for i in range(len(train)):\n",
    "   # train['distance_btwn_km'].loc[i] = geodesic(rest_coords_train[i], deliver_coords_train[i])"
   ]
  },
  {
   "cell_type": "code",
   "execution_count": 21,
   "id": "1a818e4f",
   "metadata": {},
   "outputs": [],
   "source": [
    "# train['distance_btwn_km'] = geopy.distance.geodesic(rest_coords_train[i], deliver_coords_train[i])"
   ]
  },
  {
   "cell_type": "code",
   "execution_count": 28,
   "id": "d33cfd6d",
   "metadata": {},
   "outputs": [],
   "source": [
    "train = pd.get_dummies(data=train)\n",
    "test = pd.get_dummies(data=test)"
   ]
  },
  {
   "cell_type": "code",
   "execution_count": 29,
   "id": "a1e41fc6",
   "metadata": {},
   "outputs": [],
   "source": [
    "X = train.drop('Time_taken(min)', axis=1)\n",
    "y = train['Time_taken(min)']\n",
    "\n",
    "X_train, X_test, y_train, y_test = train_test_split(X, y, train_size=0.7, random_state=123)"
   ]
  },
  {
   "cell_type": "code",
   "execution_count": null,
   "id": "ad26c9e7",
   "metadata": {},
   "outputs": [],
   "source": []
  }
 ],
 "metadata": {
  "kernelspec": {
   "display_name": "Python 3 (ipykernel)",
   "language": "python",
   "name": "python3"
  },
  "language_info": {
   "codemirror_mode": {
    "name": "ipython",
    "version": 3
   },
   "file_extension": ".py",
   "mimetype": "text/x-python",
   "name": "python",
   "nbconvert_exporter": "python",
   "pygments_lexer": "ipython3",
   "version": "3.9.12"
  }
 },
 "nbformat": 4,
 "nbformat_minor": 5
}
